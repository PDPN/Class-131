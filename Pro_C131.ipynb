{
  "cells": [
    {
      "cell_type": "markdown",
      "metadata": {
        "colab_type": "text",
        "id": "view-in-github"
      },
      "source": [
        "<a href=\"https://colab.research.google.com/github/Daksh0211/Pro-C131/blob/main/Pro_C131.ipynb\" target=\"_parent\"><img src=\"https://colab.research.google.com/assets/colab-badge.svg\" alt=\"Open In Colab\"/></a>"
      ]
    },
    {
      "cell_type": "code",
      "execution_count": null,
      "metadata": {
        "id": "SLMRBr6QCd5O"
      },
      "outputs": [],
      "source": [
        "import pandas as pd"
      ]
    },
    {
      "cell_type": "code",
      "execution_count": null,
      "metadata": {
        "id": "c1DMeRRECd5T"
      },
      "outputs": [],
      "source": [
        "df = pd.read_csv('final_data.csv')"
      ]
    },
    {
      "cell_type": "code",
      "execution_count": null,
      "metadata": {
        "id": "zRj_h2amCd5W",
        "outputId": "ccaa2599-438c-4d61-90ba-bc91c58d6f46"
      },
      "outputs": [
        {
          "data": {
            "text/html": [
              "<div>\n",
              "<style scoped>\n",
              "    .dataframe tbody tr th:only-of-type {\n",
              "        vertical-align: middle;\n",
              "    }\n",
              "\n",
              "    .dataframe tbody tr th {\n",
              "        vertical-align: top;\n",
              "    }\n",
              "\n",
              "    .dataframe thead th {\n",
              "        text-align: right;\n",
              "    }\n",
              "</style>\n",
              "<table border=\"1\" class=\"dataframe\">\n",
              "  <thead>\n",
              "    <tr style=\"text-align: right;\">\n",
              "      <th></th>\n",
              "      <th>Unnamed: 0</th>\n",
              "      <th>Star_name</th>\n",
              "      <th>Distance</th>\n",
              "      <th>Mass</th>\n",
              "      <th>Radius</th>\n",
              "    </tr>\n",
              "  </thead>\n",
              "  <tbody>\n",
              "    <tr>\n",
              "      <td>0</td>\n",
              "      <td>0</td>\n",
              "      <td>Sun</td>\n",
              "      <td>0.000015813</td>\n",
              "      <td>1.0</td>\n",
              "      <td>1</td>\n",
              "    </tr>\n",
              "    <tr>\n",
              "      <td>1</td>\n",
              "      <td>1</td>\n",
              "      <td>Sirius</td>\n",
              "      <td>8.6</td>\n",
              "      <td>2.1</td>\n",
              "      <td>1.71</td>\n",
              "    </tr>\n",
              "    <tr>\n",
              "      <td>2</td>\n",
              "      <td>2</td>\n",
              "      <td>Canopus</td>\n",
              "      <td>310</td>\n",
              "      <td>15.0</td>\n",
              "      <td>71</td>\n",
              "    </tr>\n",
              "    <tr>\n",
              "      <td>3</td>\n",
              "      <td>3</td>\n",
              "      <td>Alpha Centauri</td>\n",
              "      <td>4.4</td>\n",
              "      <td>1.1</td>\n",
              "      <td>1.2</td>\n",
              "    </tr>\n",
              "    <tr>\n",
              "      <td>4</td>\n",
              "      <td>4</td>\n",
              "      <td>Arcturus</td>\n",
              "      <td>37</td>\n",
              "      <td>1.1</td>\n",
              "      <td>26</td>\n",
              "    </tr>\n",
              "  </tbody>\n",
              "</table>\n",
              "</div>"
            ],
            "text/plain": [
              "   Unnamed: 0       Star_name     Distance  Mass Radius\n",
              "0           0             Sun  0.000015813   1.0      1\n",
              "1           1          Sirius          8.6   2.1   1.71\n",
              "2           2         Canopus          310  15.0     71\n",
              "3           3  Alpha Centauri          4.4   1.1    1.2\n",
              "4           4        Arcturus           37   1.1     26"
            ]
          },
          "execution_count": 3,
          "metadata": {
            "tags": []
          },
          "output_type": "execute_result"
        }
      ],
      "source": [
        "df.head()"
      ]
    },
    {
      "cell_type": "code",
      "execution_count": null,
      "metadata": {
        "id": "540a20LlCd5a",
        "outputId": "126aaafe-3069-4de4-9310-8d38ca44a1b0"
      },
      "outputs": [
        {
          "data": {
            "text/plain": [
              "Index(['Unnamed: 0', 'Star_name', 'Distance', 'Mass', 'Radius'], dtype='object')"
            ]
          },
          "execution_count": 4,
          "metadata": {
            "tags": []
          },
          "output_type": "execute_result"
        }
      ],
      "source": [
        "df.columns"
      ]
    },
    {
      "cell_type": "code",
      "execution_count": null,
      "metadata": {
        "id": "YIHFVr6GCd5e"
      },
      "outputs": [],
      "source": [
        "df.drop(['Unnamed: 0'],axis=1,inplace=True)"
      ]
    },
    {
      "cell_type": "code",
      "execution_count": null,
      "metadata": {
        "id": "mXQatOVXCd5j",
        "outputId": "9d3c1d18-1161-48bc-c2f0-3c678508dfa0"
      },
      "outputs": [
        {
          "data": {
            "text/html": [
              "<div>\n",
              "<style scoped>\n",
              "    .dataframe tbody tr th:only-of-type {\n",
              "        vertical-align: middle;\n",
              "    }\n",
              "\n",
              "    .dataframe tbody tr th {\n",
              "        vertical-align: top;\n",
              "    }\n",
              "\n",
              "    .dataframe thead th {\n",
              "        text-align: right;\n",
              "    }\n",
              "</style>\n",
              "<table border=\"1\" class=\"dataframe\">\n",
              "  <thead>\n",
              "    <tr style=\"text-align: right;\">\n",
              "      <th></th>\n",
              "      <th>Star_name</th>\n",
              "      <th>Distance</th>\n",
              "      <th>Mass</th>\n",
              "      <th>Radius</th>\n",
              "    </tr>\n",
              "  </thead>\n",
              "  <tbody>\n",
              "    <tr>\n",
              "      <td>0</td>\n",
              "      <td>Sun</td>\n",
              "      <td>0.000015813</td>\n",
              "      <td>1.0</td>\n",
              "      <td>1</td>\n",
              "    </tr>\n",
              "    <tr>\n",
              "      <td>1</td>\n",
              "      <td>Sirius</td>\n",
              "      <td>8.6</td>\n",
              "      <td>2.1</td>\n",
              "      <td>1.71</td>\n",
              "    </tr>\n",
              "    <tr>\n",
              "      <td>2</td>\n",
              "      <td>Canopus</td>\n",
              "      <td>310</td>\n",
              "      <td>15.0</td>\n",
              "      <td>71</td>\n",
              "    </tr>\n",
              "    <tr>\n",
              "      <td>3</td>\n",
              "      <td>Alpha Centauri</td>\n",
              "      <td>4.4</td>\n",
              "      <td>1.1</td>\n",
              "      <td>1.2</td>\n",
              "    </tr>\n",
              "    <tr>\n",
              "      <td>4</td>\n",
              "      <td>Arcturus</td>\n",
              "      <td>37</td>\n",
              "      <td>1.1</td>\n",
              "      <td>26</td>\n",
              "    </tr>\n",
              "  </tbody>\n",
              "</table>\n",
              "</div>"
            ],
            "text/plain": [
              "        Star_name     Distance  Mass Radius\n",
              "0             Sun  0.000015813   1.0      1\n",
              "1          Sirius          8.6   2.1   1.71\n",
              "2         Canopus          310  15.0     71\n",
              "3  Alpha Centauri          4.4   1.1    1.2\n",
              "4        Arcturus           37   1.1     26"
            ]
          },
          "execution_count": 6,
          "metadata": {
            "tags": []
          },
          "output_type": "execute_result"
        }
      ],
      "source": [
        "df.head()"
      ]
    },
    {
      "cell_type": "code",
      "execution_count": null,
      "metadata": {
        "id": "kcMVKjrrCd5m",
        "outputId": "5d6207d0-e029-41aa-cff2-9cc80fb9411c"
      },
      "outputs": [
        {
          "data": {
            "text/plain": [
              "Star_name     object\n",
              "Distance      object\n",
              "Mass         float64\n",
              "Radius        object\n",
              "dtype: object"
            ]
          },
          "execution_count": 7,
          "metadata": {
            "tags": []
          },
          "output_type": "execute_result"
        }
      ],
      "source": [
        "df.dtypes"
      ]
    },
    {
      "cell_type": "code",
      "execution_count": null,
      "metadata": {
        "id": "PW3zSc5fCd5p"
      },
      "outputs": [],
      "source": [
        "df['Radius']=df['Radius'].apply(lambda x: x.replace('$', '').replace(',', '')).astype('float')"
      ]
    },
    {
      "cell_type": "code",
      "execution_count": null,
      "metadata": {
        "id": "yzWi-mJjCd5s"
      },
      "outputs": [],
      "source": [
        "radius = df['Radius'].to_list()\n",
        "mass = df['Mass'].to_list()\n",
        "gravity =[]\n",
        "\n",
        "def convert_to_si(radius,mass):\n",
        "    for i in range(0,len(radius)-1):\n",
        "        radius[i] = radius[i]*6.957e+8\n",
        "        mass[i] = mass[i]*1.989e+30\n",
        "        \n",
        "convert_to_si(radius,mass)\n"
      ]
    },
    {
      "cell_type": "code",
      "execution_count": 1,
      "metadata": {
        "id": "oh4RTOJLCd5u",
        "outputId": "8871ec15-2d70-4bea-c64b-19704f2430a9"
      },
      "outputs": [
        {
          "ename": "NameError",
          "evalue": "name 'radius' is not defined",
          "output_type": "error",
          "traceback": [
            "\u001b[1;31m---------------------------------------------------------------------------\u001b[0m",
            "\u001b[1;31mNameError\u001b[0m                                 Traceback (most recent call last)",
            "\u001b[1;32mc:\\Users\\lenovo\\Dropbox\\p 131\\Pro_C131.ipynb Cell 11'\u001b[0m in \u001b[0;36m<cell line: 7>\u001b[1;34m()\u001b[0m\n\u001b[0;32m      <a href='vscode-notebook-cell:/c%3A/Users/lenovo/Dropbox/p%20131/Pro_C131.ipynb#ch0000010?line=3'>4</a>\u001b[0m         g\u001b[39m=\u001b[39m (mass[index]\u001b[39m*\u001b[39mG)\u001b[39m/\u001b[39m((radius[index])\u001b[39m*\u001b[39m\u001b[39m*\u001b[39m\u001b[39m2\u001b[39m)\n\u001b[0;32m      <a href='vscode-notebook-cell:/c%3A/Users/lenovo/Dropbox/p%20131/Pro_C131.ipynb#ch0000010?line=4'>5</a>\u001b[0m         gravity\u001b[39m.\u001b[39mappend(g)\n\u001b[1;32m----> <a href='vscode-notebook-cell:/c%3A/Users/lenovo/Dropbox/p%20131/Pro_C131.ipynb#ch0000010?line=6'>7</a>\u001b[0m gravity_calculation(radius,mass)\n\u001b[0;32m      <a href='vscode-notebook-cell:/c%3A/Users/lenovo/Dropbox/p%20131/Pro_C131.ipynb#ch0000010?line=8'>9</a>\u001b[0m df[\u001b[39m\"\u001b[39m\u001b[39mGravity\u001b[39m\u001b[39m\"\u001b[39m] \u001b[39m=\u001b[39m gravity\n",
            "\u001b[1;31mNameError\u001b[0m: name 'radius' is not defined"
          ]
        }
      ],
      "source": [
        "def gravity_calculation(radius,mass):\n",
        "    G = 6.674e-11\n",
        "    for index in range(0,len(mass)):\n",
        "        g= (mass[index]*G)/((radius[index])**2)\n",
        "        gravity.append(g)\n",
        "        \n",
        "gravity_calculation(radius,mass)\n",
        "\n",
        "df[\"Gravity\"] = gravity"
      ]
    },
    {
      "cell_type": "code",
      "execution_count": null,
      "metadata": {
        "id": "OKr8Eps2Cd5x"
      },
      "outputs": [],
      "source": [
        "df.to_csv(\"star_with_gravity.csv\")"
      ]
    },
    {
      "cell_type": "code",
      "execution_count": null,
      "metadata": {
        "id": "U0AxH6AaCd50",
        "outputId": "61b86057-242b-4d7e-957e-ecb48c693e10"
      },
      "outputs": [
        {
          "data": {
            "text/plain": [
              "Star_name     object\n",
              "Distance     float64\n",
              "Mass         float64\n",
              "Radius       float64\n",
              "Gravity      float64\n",
              "dtype: object"
            ]
          },
          "execution_count": 25,
          "metadata": {
            "tags": []
          },
          "output_type": "execute_result"
        }
      ],
      "source": [
        "df.dtypes"
      ]
    }
  ],
  "metadata": {
    "colab": {
      "include_colab_link": true,
      "name": "Pro-C131.ipynb",
      "provenance": []
    },
    "kernelspec": {
      "display_name": "Python 3",
      "language": "python",
      "name": "python3"
    },
    "language_info": {
      "codemirror_mode": {
        "name": "ipython",
        "version": 3
      },
      "file_extension": ".py",
      "mimetype": "text/x-python",
      "name": "python",
      "nbconvert_exporter": "python",
      "pygments_lexer": "ipython3",
      "version": "3.8.6"
    }
  },
  "nbformat": 4,
  "nbformat_minor": 0
}
